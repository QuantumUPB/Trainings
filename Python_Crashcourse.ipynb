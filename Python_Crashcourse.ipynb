{
  "cells": [
    {
      "cell_type": "markdown",
      "metadata": {
        "id": "dzNng6vCL9eP",
        "tags": []
      },
      "source": [
        "# Python Programming towards QKD implementations\n",
        "\n"
      ]
    },
    {
      "cell_type": "markdown",
      "metadata": {
        "id": "qVrTo-LhL9eS",
        "tags": []
      },
      "source": [
        "# **Introduction**"
      ]
    },
    {
      "cell_type": "markdown",
      "metadata": {
        "id": "9t1gKp9PL9eV",
        "tags": []
      },
      "source": [
        "This workshop lesson will serve as a quick crash course both on the Python programming language and on the use of Python for data encryption using QKD devices."
      ]
    },
    {
      "cell_type": "markdown",
      "source": [
        "You can use the following command to check if the Python interpreter is working. Click on the \"Run cell\" arrow in order to execute the code."
      ],
      "metadata": {
        "id": "4eIuP4Fz5sPM"
      }
    },
    {
      "cell_type": "code",
      "execution_count": null,
      "metadata": {
        "id": "1L4Am0QATgOc",
        "tags": []
      },
      "outputs": [],
      "source": [
        "!python --version"
      ]
    },
    {
      "cell_type": "markdown",
      "metadata": {
        "id": "JAFKYgrpL9eY"
      },
      "source": [
        "# **Basics of Python**"
      ]
    },
    {
      "cell_type": "markdown",
      "metadata": {
        "id": "NwS_hu4xL9eo"
      },
      "source": [
        "#**Basic data types in Python**"
      ]
    },
    {
      "cell_type": "markdown",
      "metadata": {
        "id": "DL5sMSZ9L9eq"
      },
      "source": [
        "## Numbers"
      ]
    },
    {
      "cell_type": "markdown",
      "metadata": {
        "id": "MGS0XEWoL9er"
      },
      "source": [
        "\n",
        "We can directly work with integer and rational numbers quite easily.\n",
        "\n",
        "To assign a value to a variable we use the `=` operator. In order to see the value of a variable in the output, we will use the `print()` directive."
      ]
    },
    {
      "cell_type": "code",
      "execution_count": null,
      "metadata": {
        "id": "KheDr_zDL9es",
        "tags": []
      },
      "outputs": [],
      "source": [
        "x = 3\n",
        "print(x)"
      ]
    },
    {
      "cell_type": "markdown",
      "source": [
        "We can apply basic arithmetic operators on variables, here are some examples."
      ],
      "metadata": {
        "id": "BUj93nKOWzzb"
      }
    },
    {
      "cell_type": "code",
      "execution_count": null,
      "metadata": {
        "id": "sk_8DFcuL9ey",
        "tags": []
      },
      "outputs": [],
      "source": [
        "print(x + 1)   # Addition\n",
        "print(x - 1)   # Subtraction\n",
        "print(x * 2)   # Multiplication\n",
        "print(x ** 2)  # Exponentiation\n",
        "print(x % 2)   # Modulus\n",
        "print(x / 2)   # Division\n",
        "print(x // 2)  # Floor"
      ]
    },
    {
      "cell_type": "markdown",
      "source": [
        "If we want to permanently modify the variable after an operation, we can use the composite binary operators:"
      ],
      "metadata": {
        "id": "B_M7xHZEW_w6"
      }
    },
    {
      "cell_type": "code",
      "execution_count": null,
      "metadata": {
        "id": "U4Jl8K0tL9e4",
        "tags": []
      },
      "outputs": [],
      "source": [
        "x += 1\n",
        "print(x)\n",
        "x *= 2\n",
        "print(x)"
      ]
    },
    {
      "cell_type": "code",
      "execution_count": null,
      "metadata": {
        "id": "w-nZ0Sg_L9e9",
        "tags": []
      },
      "outputs": [],
      "source": [
        "y = 2.5\n",
        "print(y, y + 1, y * 2, y ** 2)"
      ]
    },
    {
      "cell_type": "markdown",
      "metadata": {
        "id": "r2A9ApyaL9fB"
      },
      "source": [
        "Python also has built-in types for long integers and complex numbers; you can find all of the details in the [documentation](https://docs.python.org/3.7/library/stdtypes.html#numeric-types-int-float-long-complex)."
      ]
    },
    {
      "cell_type": "markdown",
      "metadata": {
        "id": "EqRS7qhBL9fC"
      },
      "source": [
        "## Booleans"
      ]
    },
    {
      "cell_type": "markdown",
      "metadata": {
        "id": "Nv_LIVOJL9fD"
      },
      "source": [
        "Python implements all of the usual operators for Boolean logic, but uses English words rather than symbols (`&&`, `||`, etc.):"
      ]
    },
    {
      "cell_type": "code",
      "execution_count": null,
      "metadata": {
        "id": "RvoImwgGL9fE",
        "tags": []
      },
      "outputs": [],
      "source": [
        "t, f = True, False\n",
        "print(t)\n",
        "print(f)"
      ]
    },
    {
      "cell_type": "markdown",
      "metadata": {
        "id": "YQgmQfOgL9fI"
      },
      "source": [
        "Now we let's look at the operations:"
      ]
    },
    {
      "cell_type": "code",
      "execution_count": null,
      "metadata": {
        "id": "6zYm7WzCL9fK",
        "tags": []
      },
      "outputs": [],
      "source": [
        "print(t and f) # Logical AND;\n",
        "print(t or f)  # Logical OR;\n",
        "print(not t)   # Logical NOT;\n",
        "print(t != f)  # Logical XOR;"
      ]
    },
    {
      "cell_type": "markdown",
      "metadata": {
        "id": "UQnQWFEyL9fP"
      },
      "source": [
        "## Strings"
      ]
    },
    {
      "cell_type": "code",
      "execution_count": null,
      "metadata": {
        "id": "AijEDtPFL9fP",
        "tags": [],
        "colab": {
          "base_uri": "https://localhost:8080/"
        },
        "outputId": "becc9c65-e0b8-446f-f94d-9afad45c6d58"
      },
      "outputs": [
        {
          "output_type": "stream",
          "name": "stdout",
          "text": [
            "hello\n",
            "world\n"
          ]
        }
      ],
      "source": [
        "hello = 'hello'   # String literals can use single quotes\n",
        "world = \"world\"   # or double quotes; it does not matter\n",
        "print(hello)\n",
        "print(world)"
      ]
    },
    {
      "cell_type": "code",
      "execution_count": null,
      "metadata": {
        "id": "saDeaA7hL9fT",
        "tags": []
      },
      "outputs": [],
      "source": [
        "hw = hello + ' ' + world  # String concatenation\n",
        "print(hw)\n",
        "\n",
        "hw1 = ' '.join((hello, world)) # Another way to concatenate strings\n",
        "print(hw1)"
      ]
    },
    {
      "cell_type": "code",
      "execution_count": null,
      "metadata": {
        "id": "Nji1_UjYL9fY",
        "tags": []
      },
      "outputs": [],
      "source": [
        "hw11 = '{first} {second} {third}'.format(first = 'hello', second = 'world', third = 11) # string formatting with placeholder names\n",
        "print(hw11)\n",
        "\n",
        "hw12 = '{} {} {}'.format('format', 'placeholder', 12)  # string formatting without placeholder names, they are placed in the order they are added\n",
        "print(hw12)\n",
        "\n",
        "# or, we can use the old way of doing it (which is not recommended anymore)\n",
        "hw13 = 13\n",
        "print(\"%i in hex is %04X\" % (hw13, hw13))"
      ]
    },
    {
      "cell_type": "markdown",
      "metadata": {
        "id": "bUpl35bIL9fc"
      },
      "source": [
        "String objects have a bunch of useful methods; for example:"
      ]
    },
    {
      "cell_type": "code",
      "execution_count": null,
      "metadata": {
        "id": "VOxGatlsL9fd",
        "tags": []
      },
      "outputs": [],
      "source": [
        "s = \"hello\"\n",
        "print(s.capitalize())  # Capitalize a string\n",
        "print(s.upper())       # Convert a string to uppercase; prints \"HELLO\"\n",
        "print(s.rjust(7))      # Right-justify a string, padding with spaces\n",
        "print(s.center(7))     # Center a string, padding with spaces\n",
        "print(s.replace('l', '(ell)'))  # Replace all instances of one substring with another\n",
        "print('  world '.strip())  # Strip leading and trailing whitespace\n",
        "print(s * 3)           # Repeat a string 3 times"
      ]
    },
    {
      "cell_type": "markdown",
      "metadata": {
        "id": "06cayXLtL9fi"
      },
      "source": [
        "You can find a list of all string methods in the [documentation](https://docs.python.org/3.7/library/stdtypes.html#string-methods)."
      ]
    },
    {
      "cell_type": "markdown",
      "metadata": {
        "id": "p-6hClFjL9fk"
      },
      "source": [
        "# Containers"
      ]
    },
    {
      "cell_type": "markdown",
      "metadata": {
        "id": "FD9H18eQL9fk"
      },
      "source": [
        "Python includes several built-in container types: lists, dictionaries, sets, and tuples. Containers are data structures which contain multiple values."
      ]
    },
    {
      "cell_type": "markdown",
      "metadata": {
        "id": "UsIWOe0LL9fn"
      },
      "source": [
        "## Lists"
      ]
    },
    {
      "cell_type": "markdown",
      "metadata": {
        "id": "wzxX7rgWL9fn"
      },
      "source": [
        "A list is the Python equivalent of a vector. It is resizeable and can contain elements of different types:"
      ]
    },
    {
      "cell_type": "code",
      "execution_count": null,
      "metadata": {
        "id": "hk3A8pPcL9fp",
        "tags": []
      },
      "outputs": [],
      "source": [
        "xs = [3, 1, 2]    # Syntax to create a list\n",
        "print(xs, xs[2])  # Access individual values of an array is done using the `[]` operator\n",
        "print(xs[-1])     # Negative indices count from the end of the list"
      ]
    },
    {
      "cell_type": "code",
      "execution_count": null,
      "metadata": {
        "id": "YCjCy_0_L9ft",
        "tags": []
      },
      "outputs": [],
      "source": [
        "xs[2] = 'foo'    # Lists can contain elements of different types\n",
        "print(xs)"
      ]
    },
    {
      "cell_type": "code",
      "execution_count": null,
      "metadata": {
        "id": "vJ0x5cF-L9fx",
        "tags": []
      },
      "outputs": [],
      "source": [
        "xs.append('bar') # Add a new element to the end of the list\n",
        "print(xs)"
      ]
    },
    {
      "cell_type": "code",
      "execution_count": null,
      "metadata": {
        "id": "cxVCNRTNL9f1",
        "tags": []
      },
      "outputs": [],
      "source": [
        "x = xs.pop()     # Remove and return the last element of the list\n",
        "print(x, xs)"
      ]
    },
    {
      "cell_type": "markdown",
      "metadata": {
        "id": "ilyoyO34L9f4"
      },
      "source": [
        "As usual, you can find all the gory details about lists in the [documentation](https://docs.python.org/3.7/tutorial/datastructures.html#more-on-lists)."
      ]
    },
    {
      "cell_type": "markdown",
      "metadata": {
        "id": "ovahhxd_L9f5"
      },
      "source": [
        "## Slicing"
      ]
    },
    {
      "cell_type": "markdown",
      "metadata": {
        "id": "YeSYKhv9L9f6"
      },
      "source": [
        "In addition to accessing list elements one at a time, Python provides concise syntax to access sublists"
      ]
    },
    {
      "cell_type": "code",
      "execution_count": null,
      "metadata": {
        "id": "ninq666bL9f6",
        "tags": []
      },
      "outputs": [],
      "source": [
        "nums = list(range(5))    # range is a built-in function that creates a list of integers. It can receive `start`, `stop` and `step` arguments, making it similar to the `::` operator in Matlab\n",
        "print(nums)\n",
        "print(nums[2:4])    # Get a slice from index 2 to 4 (exclusive); prints \"[2, 3]\"\n",
        "print(nums[2:])     # Get a slice from index 2 to the end; prints \"[2, 3, 4]\"\n",
        "print(nums[:2])     # Get a slice from the start to index 2 (exclusive); prints \"[0, 1]\"\n",
        "print(nums[:])      # Get a slice of the whole list; prints [\"0, 1, 2, 3, 4]\"\n",
        "print(nums[:-1])    # Slice indices can be negative; prints [\"0, 1, 2, 3]\"\n",
        "nums[2:4] = [8, 9] # Assign a new sublist to a slice\n",
        "print(nums)         # Prints \"[0, 1, 8, 9, 4]\""
      ]
    },
    {
      "cell_type": "markdown",
      "metadata": {
        "id": "UONpMhF4L9f_"
      },
      "source": [
        "## Loops"
      ]
    },
    {
      "cell_type": "markdown",
      "metadata": {
        "id": "_DYz1j6QL9f_"
      },
      "source": [
        "You can loop over the elements of a list like this:"
      ]
    },
    {
      "cell_type": "code",
      "execution_count": null,
      "metadata": {
        "id": "4cCOysfWL9gA",
        "tags": []
      },
      "outputs": [],
      "source": [
        "animals = ['cat', 'dog', 'monkey']\n",
        "for animal in animals:\n",
        "    print(animal)"
      ]
    },
    {
      "cell_type": "markdown",
      "metadata": {
        "id": "KxIaQs7pL9gE"
      },
      "source": [
        "If you want access to the index of each element within the body of a loop, use the built-in `enumerate` function:"
      ]
    },
    {
      "cell_type": "code",
      "execution_count": null,
      "metadata": {
        "id": "JjGnDluWL9gF",
        "tags": []
      },
      "outputs": [],
      "source": [
        "animals = ['cat', 'dog', 'monkey']\n",
        "for idx, animal in enumerate(animals):\n",
        "    print('#{}: {}'.format(idx + 1, animal))"
      ]
    },
    {
      "cell_type": "markdown",
      "source": [
        "# **Advanced containers**"
      ],
      "metadata": {
        "id": "pMLsEhOZZkCt"
      }
    },
    {
      "cell_type": "markdown",
      "metadata": {
        "id": "H8xsUEFpL9gZ"
      },
      "source": [
        "## Dictionaries"
      ]
    },
    {
      "cell_type": "markdown",
      "metadata": {
        "id": "kkjAGMAJL9ga"
      },
      "source": [
        "A dictionary stores (key, value) pairs. You can use it like this:"
      ]
    },
    {
      "cell_type": "code",
      "execution_count": null,
      "metadata": {
        "id": "XBYI1MrYL9gb",
        "tags": []
      },
      "outputs": [],
      "source": [
        "d = {'cat': 'cute', 'dog': 'furry'}  # Braces signal a new dictionary\n",
        "print(d['cat'])       # Get an entry from a dictionary by accessing a key; prints \"cute\"\n",
        "print('cat' in d)     # Check if a dictionary has a given key; prints \"True\""
      ]
    },
    {
      "cell_type": "code",
      "execution_count": null,
      "metadata": {
        "id": "pS7e-G-HL9gf",
        "tags": []
      },
      "outputs": [],
      "source": [
        "d['fish'] = 'wet'    # Set an entry in a dictionary -> values do not need to be of the same type!\n",
        "print(d['fish'])      # Prints \"wet\""
      ]
    },
    {
      "cell_type": "code",
      "execution_count": null,
      "metadata": {
        "id": "tFY065ItL9gi",
        "tags": []
      },
      "outputs": [],
      "source": [
        "print(d['monkey'])  # KeyError: 'monkey' not a key of d"
      ]
    },
    {
      "cell_type": "markdown",
      "metadata": {
        "id": "4QqPSFAVVstE"
      },
      "source": [
        "To avoid this problem, we can provide a default value to return is the key has no associated value:"
      ]
    },
    {
      "cell_type": "code",
      "execution_count": null,
      "metadata": {
        "id": "8TjbEWqML9gl",
        "tags": []
      },
      "outputs": [],
      "source": [
        "print(d.get('monkey', 'N/A'))  # Get an element with a default; prints \"N/A\"\n",
        "print(d.get('fish', 'N/A'))    # Get an element with a default; prints \"wet\""
      ]
    },
    {
      "cell_type": "code",
      "execution_count": null,
      "metadata": {
        "id": "0EItdNBJL9go",
        "tags": []
      },
      "outputs": [],
      "source": [
        "del d['fish']        # Remove an element from a dictionary\n",
        "print(d.get('fish', 'N/A')) # \"fish\" is no longer a key; prints \"N/A\""
      ]
    },
    {
      "cell_type": "markdown",
      "metadata": {
        "id": "IxwEqHlGL9gr"
      },
      "source": [
        "It is easy to iterate over the keys in a dictionary:"
      ]
    },
    {
      "cell_type": "code",
      "execution_count": null,
      "metadata": {
        "id": "rYfz7ZKNL9gs",
        "tags": []
      },
      "outputs": [],
      "source": [
        "d = {'person': 2, 'cat': 4, 'spider': 8}\n",
        "for key, value in d.items():\n",
        "    print('A {} has {} legs'.format(key, value))"
      ]
    },
    {
      "cell_type": "markdown",
      "metadata": {
        "id": "wqm4dRZNL9gr"
      },
      "source": [
        "You can find all you need to know about dictionaries in the [documentation](https://docs.python.org/2/library/stdtypes.html#dict)."
      ]
    },
    {
      "cell_type": "markdown",
      "metadata": {
        "id": "V9MHfUdvL9g2"
      },
      "source": [
        "## Sets"
      ]
    },
    {
      "cell_type": "markdown",
      "metadata": {
        "id": "Rpm4UtNpL9g2"
      },
      "source": [
        "A set is an unordered collection of distinct elements. You can think of it as a dictionary that only has keys. As a simple example, consider the following:"
      ]
    },
    {
      "cell_type": "code",
      "execution_count": null,
      "metadata": {
        "id": "MmyaniLsL9g2",
        "tags": []
      },
      "outputs": [],
      "source": [
        "animals = {'cat', 'dog'}\n",
        "print('cat' in animals)   # Check if an element is in a set; prints \"True\"\n",
        "print('fish' in animals)  # prints \"False\"\n"
      ]
    },
    {
      "cell_type": "code",
      "execution_count": null,
      "metadata": {
        "id": "ElJEyK86L9g6",
        "tags": []
      },
      "outputs": [],
      "source": [
        "animals.add('fish')      # Add an element to a set\n",
        "print('fish' in animals)\n",
        "print(len(animals))       # Number of elements in a set;"
      ]
    },
    {
      "cell_type": "code",
      "execution_count": null,
      "metadata": {
        "id": "5uGmrxdPL9g9",
        "tags": []
      },
      "outputs": [],
      "source": [
        "animals.add('cat')       # Adding an element that is already in the set does nothing\n",
        "print(len(animals))\n",
        "animals.remove('cat')    # Remove an element from a set\n",
        "print(len(animals))"
      ]
    },
    {
      "cell_type": "markdown",
      "metadata": {
        "id": "zk2DbvLKL9g_"
      },
      "source": [
        "_Loops_: Iterating over a set has the same syntax as iterating over a list; however since sets are unordered, you cannot make assumptions about the order in which you visit the elements of the set:"
      ]
    },
    {
      "cell_type": "code",
      "execution_count": null,
      "metadata": {
        "id": "K47KYNGyL9hA",
        "tags": []
      },
      "outputs": [],
      "source": [
        "animals = {'cat', 'dog', 'fish'}\n",
        "for idx, animal in enumerate(animals):\n",
        "    print('#{}: {}'.format(idx + 1, animal))"
      ]
    },
    {
      "cell_type": "markdown",
      "metadata": {
        "id": "DYbn3b4IVstG"
      },
      "source": [
        "## Task\n",
        "Given a string, compute the frequency of the letters within the string."
      ]
    },
    {
      "cell_type": "code",
      "execution_count": null,
      "metadata": {
        "tags": [],
        "id": "Zcs4OZZrVstG"
      },
      "outputs": [],
      "source": [
        "letters = {}\n",
        "string = \"This is the test string\"\n",
        "\n",
        "# Implement here\n",
        "\n",
        "print(letters)"
      ]
    },
    {
      "cell_type": "markdown",
      "metadata": {
        "id": "ShwuiHj4VstM"
      },
      "source": [
        "## Python built-in functions\n",
        "A function is a Python object that you can \"call\" to perform an action or compute and return another object. You call a function by placing parentheses to the right of the function name. Some functions allow you to pass arguments inside the parentheses (separating multiple arguments with a comma). Internal to the function, these arguments are treated like variables.\n",
        "\n",
        "Python has several useful built-in functions to help you work with different objects and/or your environment. Here is a small sample of them:\n",
        "\n",
        "`type(obj)` to determine the type of an object\n",
        "\n",
        "`len(container)` to determine how many items are in a container\n",
        "\n",
        "`callable(obj)` to determine if an object is callable\n",
        "\n",
        "`sorted(container)` to return a new list from a container, with the items sorted\n",
        "\n",
        "`sum(container)` to compute the sum of a container of numbers\n",
        "\n",
        "`min(container)` to determine the smallest item in a container\n",
        "\n",
        "`max(container)` to determine the largest item in a container\n",
        "\n",
        "`abs(number)` to determine the absolute value of a number\n",
        "\n",
        "`repr(obj)` to return a string representation of an object\n",
        "\n",
        "Complete list of built-in functions is [here](https://docs.python.org/3/library/functions.html)\n",
        "\n",
        "There are also different ways of defining your own functions and callable objects that we will explore soon."
      ]
    },
    {
      "cell_type": "code",
      "execution_count": null,
      "metadata": {
        "tags": [],
        "id": "gas2iQOIVstM"
      },
      "outputs": [],
      "source": [
        "# We have already seen the type() function\n",
        "type(\"this is a string\")"
      ]
    },
    {
      "cell_type": "code",
      "execution_count": null,
      "metadata": {
        "tags": [],
        "id": "ezN3gH-FVstM"
      },
      "outputs": [],
      "source": [
        "# Also the len() function, which returns how many elements are in a container\n",
        "s = {\"one\", \"two\", \"three\"}\n",
        "print(len(s))\n",
        "print(len(\"this is a string\"))"
      ]
    },
    {
      "cell_type": "code",
      "execution_count": null,
      "metadata": {
        "tags": [],
        "id": "qnKKDuSqVstM"
      },
      "outputs": [],
      "source": [
        "# callable() will return True or False depending if the object is callable (generalization of a function)\n",
        "print(callable(s))\n",
        "print(callable(type))"
      ]
    },
    {
      "cell_type": "code",
      "execution_count": null,
      "metadata": {
        "tags": [],
        "id": "_EripoBJVstM"
      },
      "outputs": [],
      "source": [
        "# Use sorted() to return a new sorted list from a container\n",
        "sorted([10, 1, 3.6, 7, 5, 2, -3])"
      ]
    },
    {
      "cell_type": "code",
      "execution_count": null,
      "metadata": {
        "tags": [],
        "id": "-SOkSTRaVstN"
      },
      "outputs": [],
      "source": [
        "# Use the sum() function to compute the sum of a container of numbers\n",
        "sum([10, 1, 3.6, 7, 5, 2, -3])"
      ]
    },
    {
      "cell_type": "code",
      "execution_count": null,
      "metadata": {
        "tags": [],
        "id": "rFqx0zoUVstN"
      },
      "outputs": [],
      "source": [
        "# Use the min() function to determine the smallest item in a container\n",
        "min([10, 1, 3.6, 7, 5, 2, -3])"
      ]
    },
    {
      "cell_type": "code",
      "execution_count": null,
      "metadata": {
        "tags": [],
        "id": "xrHxFpGKVstN"
      },
      "outputs": [],
      "source": [
        "# Use the max() function to determine the largest item in a container\n",
        "max([10, 1, 3.6, 7, 5, 2, -3])"
      ]
    },
    {
      "cell_type": "code",
      "execution_count": null,
      "metadata": {
        "tags": [],
        "id": "mTUrsov5VstN"
      },
      "outputs": [],
      "source": [
        "# Use the abs() function to determine the absolute value of a number\n",
        "print(abs(10))\n",
        "print(abs(-10))"
      ]
    },
    {
      "cell_type": "code",
      "execution_count": null,
      "metadata": {
        "tags": [],
        "id": "CGwEtKNHVstN"
      },
      "outputs": [],
      "source": [
        "# Use the repr() function to return a pretty string representation of an object\n",
        "repr(s)"
      ]
    },
    {
      "cell_type": "markdown",
      "metadata": {
        "id": "AXA4jrEOL9hM"
      },
      "source": [
        "# Functions"
      ]
    },
    {
      "cell_type": "markdown",
      "metadata": {
        "id": "WaRms-QfL9hN"
      },
      "source": [
        "Python functions are defined using the `def` keyword. For example:"
      ]
    },
    {
      "cell_type": "code",
      "execution_count": null,
      "metadata": {
        "id": "kiMDUr58L9hN",
        "tags": []
      },
      "outputs": [],
      "source": [
        "def sign(x):\n",
        "    if x > 0:\n",
        "        return 'positive'\n",
        "    elif x < 0:\n",
        "        return 'negative'\n",
        "    else:\n",
        "        return 'zero'\n",
        "\n",
        "for x in [-1, 0, 1]:\n",
        "    print(sign(x))"
      ]
    },
    {
      "cell_type": "markdown",
      "metadata": {
        "tags": [],
        "id": "OJyrxA4yVstO"
      },
      "source": [
        "We can call functions also by explicitly stating the parameter names, like this:"
      ]
    },
    {
      "cell_type": "code",
      "execution_count": null,
      "metadata": {
        "tags": [],
        "id": "wMmzk5s9VstO"
      },
      "outputs": [],
      "source": [
        "for number in [-1, 0, 1]:\n",
        "    print(sign(x=number))"
      ]
    },
    {
      "cell_type": "markdown",
      "metadata": {
        "id": "U-QJFt8TL9hR"
      },
      "source": [
        "We will often define functions to have default parameters, like this:"
      ]
    },
    {
      "cell_type": "code",
      "execution_count": null,
      "metadata": {
        "id": "PfsZ3DazL9hR",
        "tags": []
      },
      "outputs": [],
      "source": [
        "def hello(name, loud=False):\n",
        "    if loud:\n",
        "        print('HELLO, {}'.format(name.upper()))\n",
        "    else:\n",
        "        print('Hello, {}!'.format(name))\n",
        "\n",
        "hello('Bob')\n",
        "hello('Fred', loud=True)"
      ]
    },
    {
      "cell_type": "markdown",
      "metadata": {
        "id": "yisihflOVstP"
      },
      "source": [
        "## Recursive functions\n",
        "Functions can call themselves. You need to be careful not to enter an infinite recursion loop, so always make sure that you implement a stop condition where the function will stop calling itself."
      ]
    },
    {
      "cell_type": "code",
      "execution_count": null,
      "metadata": {
        "tags": [],
        "id": "gYTYJ6BeVstP"
      },
      "outputs": [],
      "source": [
        "def fibo_(n):\n",
        "    if n == 1:\n",
        "        return 1, 0\n",
        "    if n == 2:\n",
        "        return 1, 1\n",
        "    a, b = fibo_(n-1)\n",
        "    return a + b, a\n",
        "\n",
        "def fibo(n):\n",
        "    return fibo_(n)[0]\n",
        "\n",
        "print(fibo(10))"
      ]
    },
    {
      "cell_type": "markdown",
      "source": [
        "## Function libraries\n",
        "\n",
        "We will be using in this example two very popular Python libraries, numpy and matplotlib. These libraries are used primarily for computational purposes."
      ],
      "metadata": {
        "id": "3UvzqmJWcfQ5"
      }
    },
    {
      "cell_type": "code",
      "source": [
        "import numpy as np\n",
        "import matplotlib.pyplot as plt"
      ],
      "metadata": {
        "id": "vij5MlXWcJvS"
      },
      "execution_count": null,
      "outputs": []
    },
    {
      "cell_type": "markdown",
      "source": [
        "We are defining a custom function that can create a plot using `matplotlib` functions. Our function receives an array of imaginary numbers as the subject of the plot."
      ],
      "metadata": {
        "id": "cz11O_GacrTt"
      }
    },
    {
      "cell_type": "code",
      "source": [
        "def plot_fractal(fractal, title='Fractal', figsize=(6, 6), cmap='rainbow', extent=[-2, 2, -2, 2]):\n",
        "    plt.figure(figsize=figsize)\n",
        "    ax = plt.axes()\n",
        "\n",
        "    ax.set_title(f'${title}$')\n",
        "    ax.set_xlabel('Real axis')\n",
        "    ax.set_ylabel('Imaginary axis')\n",
        "\n",
        "    im = ax.imshow(fractal, extent=extent, cmap=cmap)\n",
        "    plt.colorbar(im, label='Number of iterations to divergence')"
      ],
      "metadata": {
        "id": "Dc1VR6FncMAR"
      },
      "execution_count": null,
      "outputs": []
    },
    {
      "cell_type": "markdown",
      "source": [
        "We will be plotting the well-known Mandelbrot set."
      ],
      "metadata": {
        "id": "yEqOgsoec4Ye"
      }
    },
    {
      "cell_type": "code",
      "source": [
        "def mandelbrot(mesh, num_iter=10, radius=2):\n",
        "    diverge_len = np.zeros(mesh.shape)\n",
        "    c = mesh.copy()\n",
        "    # Iterate here\n",
        "    for i in range(num_iter):\n",
        "        mask = np.abs(c) < radius\n",
        "        c[mask] = c[mask] * c[mask] + mesh[mask]\n",
        "        diverge_len[mask] += 1\n",
        "\n",
        "    return diverge_len"
      ],
      "metadata": {
        "id": "oWxaDzxOcS6G"
      },
      "execution_count": null,
      "outputs": []
    },
    {
      "cell_type": "markdown",
      "source": [
        "The Mandelbrot set is defined for imaginary values with an absolute value < 2. Therefore, we will only plot a mesh from [-2, 2] to [-2, 2]i."
      ],
      "metadata": {
        "id": "jROW4HCSc8Ak"
      }
    },
    {
      "cell_type": "code",
      "source": [
        "x, y = np.meshgrid(np.linspace(-2, 2, 400), np.linspace(-2, 2, 400))\n",
        "mesh = x + (1j * y)\n",
        "\n",
        "output = mandelbrot(mesh, num_iter=50)\n",
        "kwargs = {'title': 'Mandelbrot \\ set', 'cmap': 'hot'}\n",
        "\n",
        "plot_fractal(output, **kwargs)"
      ],
      "metadata": {
        "id": "1wF8KFE0bbT5"
      },
      "execution_count": null,
      "outputs": []
    },
    {
      "cell_type": "markdown",
      "source": [
        "\n",
        "\n",
        "```\n",
        "# This is formatted as code\n",
        "```\n",
        "\n",
        "### List Comprehensions\n",
        "List comprehensions provide a concise way to create lists in Python. They are often more readable and compact than using traditional loops. Let's compare the two approaches.\n"
      ],
      "metadata": {
        "id": "z7a9QRaXmpS3"
      }
    },
    {
      "cell_type": "code",
      "source": [
        "squares = [x ** 2 for x in range(10)]\n",
        "print(squares)"
      ],
      "metadata": {
        "id": "df4t9kgYmr4H"
      },
      "execution_count": null,
      "outputs": []
    },
    {
      "cell_type": "markdown",
      "source": [
        "The basoc syntax of a list comprehension is:"
      ],
      "metadata": {
        "id": "X0Rh72sFmxvv"
      }
    },
    {
      "cell_type": "code",
      "source": [
        "[expression-using-item for item in iterable-container]"
      ],
      "metadata": {
        "id": "N_O5q7BNmzm_"
      },
      "execution_count": null,
      "outputs": []
    },
    {
      "cell_type": "markdown",
      "source": [
        "We can also nest list comprehensions within other list comprehensions."
      ],
      "metadata": {
        "id": "9pLx9NEfnFJ_"
      }
    },
    {
      "cell_type": "code",
      "source": [
        "matrix = [[x + y for x in range(3)] for y in range(3)]\n",
        "print(matrix)"
      ],
      "metadata": {
        "id": "bBlI1MrenJkX"
      },
      "execution_count": null,
      "outputs": []
    },
    {
      "cell_type": "code",
      "source": [
        "[[expression-using-item,outer_item for item in iterable-container] for outer_item in outer_iterable-container]"
      ],
      "metadata": {
        "id": "O-eYR8Wrna9v"
      },
      "execution_count": null,
      "outputs": []
    },
    {
      "cell_type": "markdown",
      "source": [
        "It's possible to use functions as part of the expression of a list comprehension."
      ],
      "metadata": {
        "id": "jWCx9IagnRNO"
      }
    },
    {
      "cell_type": "code",
      "source": [
        "def square(x):\n",
        "    return x ** 2\n",
        "\n",
        "squares = [square(x) for x in range(10)]\n",
        "print(squares)"
      ],
      "metadata": {
        "id": "y3wSogWBnVvN"
      },
      "execution_count": null,
      "outputs": []
    },
    {
      "cell_type": "markdown",
      "source": [
        "If we mean to apply an operation between two lists item by item instead of all items to all items, we need to apply `zip`."
      ],
      "metadata": {
        "id": "0SBuzUMjnosy"
      }
    },
    {
      "cell_type": "code",
      "source": [
        "list1 = [1, 2, 3, 4]\n",
        "list2 = [10, 20, 30, 40]\n",
        "\n",
        "result = [x + y for x, y in zip(list1, list2)]\n",
        "print(result)"
      ],
      "metadata": {
        "id": "4OELisWSn2g0"
      },
      "execution_count": null,
      "outputs": []
    },
    {
      "cell_type": "markdown",
      "source": [
        "## Caesar Cipher\n",
        "\n",
        "We are going to try to implement a Caesar Cipher encryptor/decryptor.\n",
        "\n",
        "We are going to need two new Python built-in functions:\n",
        "`chr` and `ord`. Let's explore what these functions do."
      ],
      "metadata": {
        "id": "HgnF6PAdohLC"
      }
    },
    {
      "cell_type": "code",
      "source": [
        "print(ord('a'))\n",
        "print(ord('b'))\n",
        "\n",
        "print(chr(68))\n",
        "print(chr(69))\n",
        "\n",
        "print(chr(ord('E') + 1))"
      ],
      "metadata": {
        "id": "SSWESKN7oyXJ"
      },
      "execution_count": null,
      "outputs": []
    },
    {
      "cell_type": "markdown",
      "source": [
        "We should be mindful that non alphabetic characters should remain unchanged, and that lowercase and uppercase characters start from different positions in the ASCII table."
      ],
      "metadata": {
        "id": "U8zG-1UupYwJ"
      }
    },
    {
      "cell_type": "code",
      "source": [
        "def caesar_cipher(text, shift=13):\n",
        "    result = \"\"\n",
        "    for char in text:\n",
        "        # Implement this code in order to find out the secret!\n",
        "        break\n",
        "    return result"
      ],
      "metadata": {
        "id": "1bejGpW4pJNf"
      },
      "execution_count": null,
      "outputs": []
    },
    {
      "cell_type": "code",
      "source": [
        "text = \"Arkg ghrfqnl vgf jbeyq znevgvzr qnl!\"\n",
        "shift = 13\n",
        "print(caesar_cipher(text, shift))"
      ],
      "metadata": {
        "id": "K-2y_QT4pL4-"
      },
      "execution_count": null,
      "outputs": []
    },
    {
      "cell_type": "markdown",
      "source": [
        "## One Time Pad\n",
        "The One Time Pad encryption is unconditionally secure (highest level of security) if a perfectly random key with the same length as the message is used."
      ],
      "metadata": {
        "id": "kQH6ZhKOeBQk"
      }
    },
    {
      "cell_type": "code",
      "source": [
        "import random\n",
        "\n",
        "def str_to_bin(message):\n",
        "    return ''.join(f'{ord(c):08b}' for c in message)\n",
        "\n",
        "def bin_to_str(binary_message):\n",
        "    chars = [binary_message[i:i+8] for i in range(0, len(binary_message), 8)]\n",
        "    return ''.join([chr(int(char, 2)) for char in chars])\n",
        "\n",
        "def generate_otp_key(length):\n",
        "    return ''.join(random.choice(['0', '1']) for _ in range(length))"
      ],
      "metadata": {
        "id": "dzlMPJbXzg4O"
      },
      "execution_count": null,
      "outputs": []
    },
    {
      "cell_type": "code",
      "source": [
        "print(str_to_bin(\"hello\"))\n",
        "\n",
        "print(bin_to_str(\"01011101\"))\n",
        "\n",
        "print(generate_otp_key(10))"
      ],
      "metadata": {
        "id": "dU8OqPl-zkFk"
      },
      "execution_count": null,
      "outputs": []
    },
    {
      "cell_type": "code",
      "source": [
        "def xor_binary_strings(bin_str1, bin_str2):\n",
        "  # Implement a function that has the behavior of the XOR operation applied on the binary strings\n",
        "  return\n",
        "\n",
        "# Encrypt message using OTP\n",
        "def otp_encrypt(message):\n",
        "  return\n",
        "\n",
        "# Decrypt message using OTP\n",
        "def otp_decrypt(encrypted_message, otp_key):\n",
        "  return"
      ],
      "metadata": {
        "id": "wcNR8jNsz1pT"
      },
      "execution_count": null,
      "outputs": []
    },
    {
      "cell_type": "code",
      "source": [
        "message = \"Hello\"\n",
        "print(\"Original message:\", message)\n",
        "\n",
        "# Encrypt the message\n",
        "otp_key, encrypted_message = otp_encrypt(message)\n",
        "print(\"OTP Key:\", otp_key)\n",
        "print(\"Encrypted message (binary):\", encrypted_message)\n",
        "\n",
        "# Decrypt the message\n",
        "decrypted_message = otp_decrypt(encrypted_message, otp_key)\n",
        "print(\"Decrypted message:\", decrypted_message)"
      ],
      "metadata": {
        "id": "Z7EZAyng0W_q"
      },
      "execution_count": null,
      "outputs": []
    },
    {
      "cell_type": "markdown",
      "source": [
        "Alternatively, we can use the `onetimepad` library. First, we need to install the library in this environment."
      ],
      "metadata": {
        "id": "LDR_fjN60pJq"
      }
    },
    {
      "cell_type": "code",
      "source": [
        "!pip install onetimepad"
      ],
      "metadata": {
        "id": "DbGh3cDE01Tm"
      },
      "execution_count": null,
      "outputs": []
    },
    {
      "cell_type": "code",
      "source": [
        "import onetimepad\n",
        "\n",
        "cipher = onetimepad.encrypt('hello world', 'abcdefghijk')\n",
        "print(cipher)\n",
        "\n",
        "msg = onetimepad.decrypt(cipher, 'abcdefghijk')\n",
        "print(msg)"
      ],
      "metadata": {
        "id": "CV2-QbUX0opx"
      },
      "execution_count": null,
      "outputs": []
    }
  ],
  "metadata": {
    "colab": {
      "provenance": []
    },
    "kernelspec": {
      "display_name": "Python 3 (ipykernel)",
      "language": "python",
      "name": "python3"
    },
    "language_info": {
      "codemirror_mode": {
        "name": "ipython",
        "version": 3
      },
      "file_extension": ".py",
      "mimetype": "text/x-python",
      "name": "python",
      "nbconvert_exporter": "python",
      "pygments_lexer": "ipython3",
      "version": "3.10.11"
    }
  },
  "nbformat": 4,
  "nbformat_minor": 0
}