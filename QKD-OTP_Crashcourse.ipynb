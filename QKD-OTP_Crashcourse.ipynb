{
 "cells": [
  {
   "cell_type": "code",
   "execution_count": 1,
   "metadata": {},
   "outputs": [],
   "source": [
    "import json\n",
    "import requests\n",
    "import base64"
   ]
  },
  {
   "cell_type": "code",
   "execution_count": 5,
   "metadata": {},
   "outputs": [
    {
     "name": "stdout",
     "output_type": "stream",
     "text": [
      "john has 5 apples\n"
     ]
    }
   ],
   "source": [
    "x = 5\n",
    "string = f\"john has {x} apples\"\n",
    "print(string)"
   ]
  },
  {
   "cell_type": "code",
   "execution_count": 7,
   "metadata": {},
   "outputs": [
    {
     "name": "stderr",
     "output_type": "stream",
     "text": [
      "c:\\Users\\alin1\\miniconda3\\envs\\quantumlab\\lib\\site-packages\\urllib3\\connectionpool.py:1099: InsecureRequestWarning: Unverified HTTPS request is being made to host '141.85.241.65'. Adding certificate verification is strongly advised. See: https://urllib3.readthedocs.io/en/latest/advanced-usage.html#tls-warnings\n",
      "  warnings.warn(\n"
     ]
    }
   ],
   "source": [
    "cert_path = \"upb-ap.crt\"\n",
    "key_path = \"qkd_unencrypted.key\"\n",
    "\n",
    "source = \"141.85.241.65:12443\"\n",
    "destination = \"UPB-AP-UPBR\"\n",
    "\n",
    "url = f\"https://{source}/api/v1/keys/{destination}/enc_keys\"\n",
    "\n",
    "response = requests.get(\n",
    "    url,\n",
    "    cert=(cert_path, key_path),\n",
    "    verify=False,\n",
    "    headers={'Content-Type': 'application/json'},\n",
    ")"
   ]
  },
  {
   "cell_type": "code",
   "execution_count": 14,
   "metadata": {},
   "outputs": [
    {
     "name": "stdout",
     "output_type": "stream",
     "text": [
      "lqaMCnW2X9TFhnp+al166A6WC7/ZCro1ma6xmf/XwX8= 9ac114f2-4fa7-4d1b-84d0-3df62021aaf4\n"
     ]
    }
   ],
   "source": [
    "data = json.loads(response.text)\n",
    "key = data['keys'][0]['key']\n",
    "keyID = data['keys'][0]['key_ID']\n",
    "print(key, keyID) "
   ]
  },
  {
   "cell_type": "code",
   "execution_count": 18,
   "metadata": {},
   "outputs": [
    {
     "data": {
      "text/plain": [
       "65"
      ]
     },
     "execution_count": 18,
     "metadata": {},
     "output_type": "execute_result"
    }
   ],
   "source": [
    "c = 'A'\n",
    "ord(c)"
   ]
  },
  {
   "cell_type": "code",
   "execution_count": 19,
   "metadata": {},
   "outputs": [
    {
     "name": "stdout",
     "output_type": "stream",
     "text": [
      "b'1cnieQHXMaCkphMNShwNjX35Ztr4'\n"
     ]
    }
   ],
   "source": [
    "key_binary = base64.b64decode(key)\n",
    "message = \"Constanta is Awesome!\"\n",
    "\n",
    "enc_message = bytearray()\n",
    "for i in range(len(message)):\n",
    "    byte = ord(message[i]) ^ key_binary[i]\n",
    "    enc_message.append(byte)\n",
    "\n",
    "enc_message_bytes = bytes(enc_message)\n",
    "enc_message_base64 = base64.b64encode(enc_message_bytes)\n",
    "print(enc_message_base64)\n"
   ]
  },
  {
   "cell_type": "code",
   "execution_count": 24,
   "metadata": {},
   "outputs": [
    {
     "name": "stderr",
     "output_type": "stream",
     "text": [
      "c:\\Users\\alin1\\miniconda3\\envs\\quantumlab\\lib\\site-packages\\urllib3\\connectionpool.py:1099: InsecureRequestWarning: Unverified HTTPS request is being made to host '141.85.241.65'. Adding certificate verification is strongly advised. See: https://urllib3.readthedocs.io/en/latest/advanced-usage.html#tls-warnings\n",
      "  warnings.warn(\n"
     ]
    }
   ],
   "source": [
    "r_keyID = \"9ac114f2-4fa7-4d1b-84d0-3df62021aaf4\"\n",
    "\n",
    "r_enc_message_base64 = \"1cnieQHXMaCkphMNShwNjX35Ztr4\"\n",
    "r_enc_message_bytes = base64.b64decode(r_enc_message_base64)\n",
    "\n",
    "cert_path = \"upb-ap.crt\"\n",
    "key_path = \"qkd_unencrypted.key\"\n",
    "\n",
    "source = \"141.85.241.65:11443\"\n",
    "destination = \"UPB-AP-UPBP\"\n",
    "\n",
    "url = f\"https://{source}/api/v1/keys/{destination}/dec_keys\"\n",
    "\n",
    "data_payload = {\n",
    "    \"key_IDs\": [\n",
    "        {\n",
    "            \"key_ID\": r_keyID\n",
    "        }\n",
    "    ]\n",
    "}\n",
    "\n",
    "data_json = json.dumps(data_payload)\n",
    "\n",
    "response = requests.post(\n",
    "    url,\n",
    "    cert=(cert_path, key_path),\n",
    "    verify=False,\n",
    "    headers={'Content-Type': 'application/json'},\n",
    "    data=data_json\n",
    ")"
   ]
  },
  {
   "cell_type": "code",
   "execution_count": 27,
   "metadata": {},
   "outputs": [],
   "source": [
    "r_data = json.loads(response.text)\n",
    "r_key = r_data['keys'][0]['key']\n",
    "r_key_binary = base64.b64decode(r_key)"
   ]
  },
  {
   "cell_type": "code",
   "execution_count": 29,
   "metadata": {},
   "outputs": [
    {
     "data": {
      "text/plain": [
       "'Constanta is Awesome!'"
      ]
     },
     "execution_count": 29,
     "metadata": {},
     "output_type": "execute_result"
    },
    {
     "ename": "",
     "evalue": "",
     "output_type": "error",
     "traceback": [
      "\u001b[1;31mThe Kernel crashed while executing code in the current cell or a previous cell. \n",
      "\u001b[1;31mPlease review the code in the cell(s) to identify a possible cause of the failure. \n",
      "\u001b[1;31mClick <a href='https://aka.ms/vscodeJupyterKernelCrash'>here</a> for more info. \n",
      "\u001b[1;31mView Jupyter <a href='command:jupyter.viewOutput'>log</a> for further details."
     ]
    }
   ],
   "source": [
    "\n",
    "\n",
    "dec_message = bytearray()\n",
    "for i in range(len(r_enc_message_bytes)):\n",
    "    byte = r_enc_message_bytes[i] ^ r_key_binary[i]\n",
    "    dec_message.append(byte)\n",
    "\n",
    "bytes(dec_message).decode('utf-8')"
   ]
  },
  {
   "cell_type": "code",
   "execution_count": null,
   "metadata": {},
   "outputs": [],
   "source": []
  }
 ],
 "metadata": {
  "kernelspec": {
   "display_name": "quantumlab",
   "language": "python",
   "name": "python3"
  },
  "language_info": {
   "codemirror_mode": {
    "name": "ipython",
    "version": 3
   },
   "file_extension": ".py",
   "mimetype": "text/x-python",
   "name": "python",
   "nbconvert_exporter": "python",
   "pygments_lexer": "ipython3",
   "version": "3.10.14"
  }
 },
 "nbformat": 4,
 "nbformat_minor": 2
}
